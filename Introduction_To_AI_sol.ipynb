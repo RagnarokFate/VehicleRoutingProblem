{
  "nbformat": 4,
  "nbformat_minor": 0,
  "metadata": {
    "colab": {
      "provenance": []
    },
    "kernelspec": {
      "name": "python3",
      "display_name": "Python 3"
    },
    "language_info": {
      "name": "python"
    }
  },
  "cells": [
    {
      "cell_type": "markdown",
      "source": [
        "# Intro to AI - homework 1\n",
        "\n",
        "Submitted by: (Bashar Beshoti - 207370248)\n"
      ],
      "metadata": {
        "id": "bqF6jX-E0Tv5"
      }
    },
    {
      "cell_type": "markdown",
      "source": [
        "*italicized text*\n",
        "\n",
        "# Vehicle Routing Problem (VRP)\n",
        "\n",
        "The Vehicle Routing Problem (VRP) is a combinatorial optimization problem that involves the efficient distribution of goods or services from a central depot to a set of geographically dispersed locations using a fleet of vehicles. The goal is to minimize the overall transportation cost, which can include factors such as distance traveled, time, etc.\n",
        "\n",
        "The problem is defined as follows:\n",
        "\n",
        "**Given:**\n",
        "\n",
        "\n",
        "*   **Depot** - A central location where the fleet of vehicles starts and returns after completing their routes.\n",
        "*   **Locations** - Locations that require goods or services to be delivered.\n",
        "*   **Transportation cost** - expenses incurred in moving from one location to another, encompassing factors like fuel, vehicle maintenance, labor, and associated logistical expenses.\n",
        "*   **Constraints** - Various constraints need to be satisfied, such as vehicle capacity constraints (a vehicle cannot exceed its maximum capacity) or window time that the location must be visited.\n",
        "\n",
        "\n",
        "**Objective:**\n",
        "Minimize the total cost of the delivery routes\n",
        "\n",
        "\n",
        "\n",
        "In this assignment we'll focus on VRP with 2 factors of transformation costs - distance and time traveled and no constraints.\n",
        "\n",
        "\n",
        "\n",
        "\n",
        "\n"
      ],
      "metadata": {
        "id": "QmqeCIIT0Qo7"
      }
    },
    {
      "cell_type": "markdown",
      "source": [
        "## Class VRP\n",
        "\n",
        "We'll start with defining class VRP - an instance that parses the data file and holds all neccesary data of the VRP and\n",
        "\n",
        "**task 1.1** - fill in the function *compute_distance_matrix*\n",
        "\n",
        "**task 1.2** - fill in the function *plot locations*\n",
        "\n",
        "**task 1.3** - fill in the function *plot_routes*\n",
        "\n",
        "**task 1.4** - fill in the function *compute_route_distance*\n",
        "\n",
        "**task 1.5** - fill in the function *compute_route_time*"
      ],
      "metadata": {
        "id": "rT2YeyyeApLZ"
      }
    },
    {
      "cell_type": "code",
      "source": [
        "#import lib\n",
        "import numpy as np\n",
        "import matplotlib.pyplot as plt\n",
        "import itertools"
      ],
      "metadata": {
        "id": "64DPpq2-Lhjx"
      },
      "execution_count": 129,
      "outputs": []
    },
    {
      "cell_type": "code",
      "source": [
        "class VRP:\n",
        "  def __init__(self,file_path):\n",
        "\n",
        "    self.file_path = file_path  # path to data to initalize vrp\n",
        "    self.locations = []         # locations holds all x,y coordinates of the locations (including depot)\n",
        "    self.dim = None             # dim holds the number of locations\n",
        "    self.dis_mtx = []           # distance matrix - stores the distance from location i to location j\n",
        "    self.time_mtx =[]           # time matrix - stores the time it takes travel from location i to location j\n",
        "    self.parse_data_file()\n",
        "    self.dis_mtx = self.compute_distance_matrix()\n",
        "\n",
        "\n",
        "  def parse_data_file(self):\n",
        "    with open(self.file_path, 'r') as f:\n",
        "        for line in f:\n",
        "            line = line.strip()\n",
        "            if line.startswith('DIMENSION'):\n",
        "                self.dim = int(line.split(': ')[1])\n",
        "            elif line == 'NODE_COORD_SECTION':\n",
        "              for i in range(self.dim):\n",
        "                  line = next(f)\n",
        "                  node_id, x, y = line.split()\n",
        "                  self.locations.append((float(x), float(y)))\n",
        "              self.locations = np.array(self.locations)\n",
        "            elif line == 'TIME':\n",
        "              time_lines = []\n",
        "              for i in range(self.dim):\n",
        "                line = next(f)\n",
        "                time_lines.append(line)\n",
        "              self.time_mtx = np.array([list(map(float, line.split())) for line in time_lines])\n",
        "\n",
        "\n",
        "    # ~~~~TODO 1: fill in this method to initialize the distance matrix~~~~\n",
        "  def compute_distance_matrix(self):\n",
        "        dis_mtx = np.zeros((self.dim, self.dim))\n",
        "        for i in range(self.dim):\n",
        "            for j in range(self.dim):\n",
        "                dis_mtx[i, j] = np.sqrt((self.locations[i][0] - self.locations[j][0]) ** 2 +\n",
        "                                        (self.locations[i][1] - self.locations[j][1]) ** 2)\n",
        "        return dis_mtx\n",
        "\n",
        "\n",
        "    #~~~~ TODO 2: plot locations ~~~~~~~~~~~~~~~~~~~~~~~~~~~~~~~~~~~~~~~~~~\n",
        "  def plot_locations(self):\n",
        "    plt.figure(figsize=(8, 6))\n",
        "    plt.scatter(self.locations[:, 0], self.locations[:, 1], color='blue', label='Locations')\n",
        "    plt.xlabel('X Coordinate')\n",
        "    plt.ylabel('Y Coordinate')\n",
        "    plt.title('Locations')\n",
        "    plt.legend()\n",
        "    plt.grid(True)\n",
        "    plt.show()\n",
        "    pass\n",
        "\n",
        "    # ~~TODO 3: Plot routes, each route hold ordered locations to visit~~~~\n",
        "    #   Note: Make sure to add depot to the start and end of each route\n",
        "  def plot_routes(self, routes):\n",
        "    plt.figure(figsize=(8, 6))\n",
        "    plt.scatter(self.locations[:, 0], self.locations[:, 1], color='blue', label='Locations')\n",
        "\n",
        "    for route in routes:\n",
        "        # Add depot to the start and end of each route\n",
        "        route_with_depot = [0] + route + [0]\n",
        "        route_coords = [self.locations[i] for i in route_with_depot]\n",
        "        route_coords = np.array(route_coords)\n",
        "        plt.plot(route_coords[:, 0], route_coords[:, 1], marker='o')\n",
        "\n",
        "    plt.xlabel('X Coordinate')\n",
        "    plt.ylabel('Y Coordinate')\n",
        "    plt.title('Routes')\n",
        "    plt.legend()\n",
        "    plt.grid(True)\n",
        "    plt.show()\n",
        "  pass\n",
        "\n",
        "  #~~~ TODO 4: given a route calculate the distance it took to travel~~~~\n",
        "  def compute_route_distance(self, route):\n",
        "    distance = 0\n",
        "    for i in range(len(route) - 1):\n",
        "        distance += self.dis_mtx[route[i], route[i+1]]\n",
        "    # Add distance from the last location back to the depot\n",
        "    distance += self.dis_mtx[route[-1], 0]\n",
        "    return distance\n",
        "\n",
        "  # TODO 5: given a route calculate the distance it took to travel~~~~~~\n",
        "  def compute_route_time(self, route):\n",
        "    time = 0\n",
        "    for i in range(len(route) - 1):\n",
        "        time += self.time_mtx[route[i], route[i+1]]\n",
        "    # Add time from the last location back to the depot\n",
        "    time += self.time_mtx[route[-1], 0]\n",
        "    return time\n",
        "\n",
        "  def print_routes(self, routes):\n",
        "    total_time, total_distance = 0, 0\n",
        "    for i,r in enumerate(routes):\n",
        "        route_string = \"depot ->\" + \" -> \".join(map(str, r)) + \" -> depot\"\n",
        "        print(f\"vehicle {i + 1} route: \" + route_string)\n",
        "        r_distance = self.compute_route_distance(r)\n",
        "        r_time = self.compute_route_time(r)\n",
        "        print(f\"Distance for vehicle {i + 1} {r_distance=}, Time traveled = {r_time}\")\n",
        "        total_time+= r_time\n",
        "        total_distance += r_distance\n",
        "    print(f\"Total Distance is: {total_distance}, Total Time = {total_time}\")\n",
        "\n",
        "\n"
      ],
      "metadata": {
        "id": "xG4eiLQkAozQ"
      },
      "execution_count": 130,
      "outputs": []
    },
    {
      "cell_type": "markdown",
      "source": [],
      "metadata": {
        "id": "IjjY5VFl1syF"
      }
    },
    {
      "cell_type": "markdown",
      "source": [
        "### sanity check: Test your methods\n",
        "1) Create a folder in google drive and unzip all data instances provided (If running locally - modify this section to load the file)\n"
      ],
      "metadata": {
        "id": "-nE1LVaoIioi"
      }
    },
    {
      "cell_type": "code",
      "source": [
        "from google.colab import drive\n",
        "drive.mount('/content/drive')"
      ],
      "metadata": {
        "id": "zaVgtq0KJyXX",
        "colab": {
          "base_uri": "https://localhost:8080/"
        },
        "outputId": "6d6d8a55-fbe2-49b3-e379-0969139323bf"
      },
      "execution_count": 131,
      "outputs": [
        {
          "output_type": "stream",
          "name": "stdout",
          "text": [
            "Drive already mounted at /content/drive; to attempt to forcibly remount, call drive.mount(\"/content/drive\", force_remount=True).\n"
          ]
        }
      ]
    },
    {
      "cell_type": "markdown",
      "source": [
        "2) Load vrp instance - copy the path to data file (start with example 'E-n5') from the google drive folder you created"
      ],
      "metadata": {
        "id": "O-BlyVvDh_JM"
      }
    },
    {
      "cell_type": "code",
      "source": [
        "#insert path here\n",
        "path = '/content/drive/MyDrive/HW1-Datasets/Ex1-d5'\n",
        "vrp = VRP(path)"
      ],
      "metadata": {
        "id": "SJEX5be01zoD"
      },
      "execution_count": 132,
      "outputs": []
    },
    {
      "cell_type": "markdown",
      "source": [
        "3) Test plot_location\n"
      ],
      "metadata": {
        "id": "4n0dCgJAjLyc"
      }
    },
    {
      "cell_type": "code",
      "source": [
        "vrp.plot_locations()"
      ],
      "metadata": {
        "id": "1JXXxrfyjbsm",
        "colab": {
          "base_uri": "https://localhost:8080/",
          "height": 564
        },
        "outputId": "2c8ff4ff-9b6e-4ea1-f360-c30a1a9e9c28"
      },
      "execution_count": 133,
      "outputs": [
        {
          "output_type": "display_data",
          "data": {
            "text/plain": [
              "<Figure size 800x600 with 1 Axes>"
            ],
            "image/png": "[encoded data removed]"
          },
          "metadata": {}
        }
      ]
    },
    {
      "cell_type": "markdown",
      "source": [
        "4) Test plot_location"
      ],
      "metadata": {
        "id": "iRBThXmljraH"
      }
    },
    {
      "cell_type": "code",
      "source": [
        "routes = [[1,2],[3,4]]\n",
        "vrp.plot_routes(routes)"
      ],
      "metadata": {
        "id": "OkMQWmRsjq8z",
        "colab": {
          "base_uri": "https://localhost:8080/",
          "height": 564
        },
        "outputId": "2f3e5235-89e4-4004-ad92-78212f2b4558"
      },
      "execution_count": 134,
      "outputs": [
        {
          "output_type": "display_data",
          "data": {
            "text/plain": [
              "<Figure size 800x600 with 1 Axes>"
            ],
            "image/png": "[encoded data removed]"
          },
          "metadata": {}
        }
      ]
    },
    {
      "cell_type": "markdown",
      "source": [
        "## Particle swarm optimization\n",
        "Particle swarm optimization (PSO) is one of the bio-inspired algorithms and it is a simple one to search for an optimal solution in the solution space. Each particle adjusts its position and velocity based on its own experience and shared knowledge within the swarm. The algorithm iteratively refines solutions, striking a balance between global exploration and local exploitation.\n",
        "\n",
        "**pseudocode for Particle Swarm Optimization (PSO):**\n",
        "\n",
        "\n",
        "1.  Initialization:\n",
        "  1.   Initialize a swarm of particles with random positions and velocities.\n",
        "  2.   Initialize personal best positions for each particle as their current positions.\n",
        "  1.   Initialize the global best position as the best position among all particles.\n",
        "\n",
        "2.   Main Loop: Repeat until convergence or a maximum number of iterations:\n",
        "  1.   For each particle in the swarm:\n",
        "      1.   Evaluate the fitness of the current position.\n",
        "      2.   If the fitness is better than the personal best -> Update the personal best position.\n",
        "      2.   If the fitness is better than the global best ->Update the global best position\n",
        "  1.   Update the velocity and position using the formula: $v_{t+1} = w_{t}v_{t} + c_1  r_1(p_{best,i} - x_i) +c_1 r_1 (g_{best} - x_i)$\n",
        "  2.   update positions  : $x_{i+1} = x_i + v_{i+1}$\n",
        "1.   Return global bet position\n",
        "\n",
        "\n",
        "\n",
        "\n",
        "\n",
        "\n",
        "\n",
        "\n",
        "\n",
        "\n"
      ],
      "metadata": {
        "id": "h7l3op8VkCFL"
      }
    },
    {
      "cell_type": "code",
      "source": [
        "import multiprocessing"
      ],
      "metadata": {
        "id": "js401eJGnlr9"
      },
      "execution_count": 135,
      "outputs": []
    },
    {
      "cell_type": "code",
      "source": [
        "def pso(s, d, lb, ub, c1, c2, maxiter ,obj_func, wupdate_func):\n",
        "    #:param s: number of particles\n",
        "    #:param d: dimension of a particle\n",
        "    #:param lb: lower bound in the search space\n",
        "    #:param ub: upper bound in the search space\n",
        "    #:param c1: constant for velocity update\n",
        "    #:param c2: constant for velocity update\n",
        "    #:param maxiter: maximum number of iteration defined to run\n",
        "    #:param obj_func: function to evaluate particle position\n",
        "    #:param wupdate_func: function to update the velocity weight\n",
        "\n",
        "    # initialize swarm\n",
        "    p = np.random.rand(s, d)   # particle positions\n",
        "    v = np.zeros_like(p)       # particle velocities\n",
        "    bp = p                     # best particle positions\n",
        "    f_p = np.zeros(s)          # current particle function values\n",
        "    f_bp = np.ones(s) * np.inf # best particle function values\n",
        "    gp = []                    # best swarm position\n",
        "    f_gp = np.inf              # best swarm position starting value\n",
        "\n",
        "    # Initialize the particle's position\n",
        "    p = lb + p * (ub - lb)\n",
        "\n",
        "    # Initialize the multiprocessing module if necessary\n",
        "    processes = 5\n",
        "    mp_pool = multiprocessing.Pool(processes)\n",
        "\n",
        "    # Calculate objective function\n",
        "    f_p = np.array(mp_pool.map(obj_func, p))\n",
        "    f_bp = f_p.copy()\n",
        "\n",
        "    # Update swarm's best position\n",
        "    i_min = np.argmin(f_p)\n",
        "    if f_p[i_min] < f_gp:\n",
        "        f_g = f_p[i_min]\n",
        "        gp = p[i_min, :].copy()\n",
        "\n",
        "    # Initialize the particle's velocity\n",
        "    v = -1 + np.random.rand(s, d) * 2\n",
        "\n",
        "    # Iterate until termination criterion met\n",
        "    it = 1\n",
        "    print(\"Running...\")\n",
        "    while it <= maxiter and np.std(f_p)>1:\n",
        "      r1 = np.random.uniform(size=(s, d))\n",
        "      r2 = np.random.uniform(size=(s, d))\n",
        "\n",
        "      # Update the particles velocities\n",
        "      w = wupdate_func(it)\n",
        "      v = w * v + c1 * r1 * (bp - p) + c2 * r2 * (gp - p)\n",
        "\n",
        "      # Update the particles' positions\n",
        "      p = p + v\n",
        "\n",
        "      # Correct for bound violations\n",
        "      maskl = p < lb\n",
        "      masku = p > ub\n",
        "      p = p * (~np.logical_or(maskl, masku)) + lb * maskl + ub * masku\n",
        "\n",
        "      # Update objectives\n",
        "      f_p = np.array(mp_pool.map(obj_func, p))\n",
        "\n",
        "      # Store particle's best position\n",
        "      i_update = (f_p < f_bp)\n",
        "      bp[i_update, :] = p[i_update, :].copy()\n",
        "      f_bp[i_update] = f_p[i_update]\n",
        "\n",
        "      # Compare swarm's best position with global best position\n",
        "      i_min = np.argmin(f_bp)\n",
        "      if f_bp[i_min] < f_gp:\n",
        "          gp = bp[i_min, :].copy()\n",
        "          f_gp = f_p[i_min]\n",
        "\n",
        "      it += 1\n",
        "    print(\"Finshed run\")\n",
        "    return gp, f_gp"
      ],
      "metadata": {
        "id": "BS8-Li1elRVA"
      },
      "execution_count": 136,
      "outputs": []
    },
    {
      "cell_type": "markdown",
      "source": [
        "To run the pso provided we need to define two functions:\n",
        "1. wupdate_func - updating w for velocity computation\n",
        "2. obj_func - How we evaluate a particle"
      ],
      "metadata": {
        "id": "iPrgdHoNvce-"
      }
    },
    {
      "cell_type": "markdown",
      "source": [
        "**Task 2 - Define how we update w in each iteration**\n",
        "\n",
        "In Particle Swarm Optimization (PSO), w represents the inertia weight. The inertia weight is a parameter used to control the trade-off between exploration and exploitation during the optimization process.\n",
        "\n",
        "The inertia weight influences the particle's velocity update formula in PSO. The velocity update equation for a particle i in a given iteration is typically defined as follows:\n",
        "\n",
        "$v_{t+1} = w_{t}v_{t} + c_1  r_1(p_{best,i} - x_i) +c_1 r_1 (g_{best} - x_i)$\n",
        "\n",
        "\n",
        " **task 2.1** fill in the function w_update to compute $w_{i}$\n",
        "\n",
        " **task 2.2 (Submit written in pdf)** - How does the inertia weight impact the trade-off between exploration and exploitation?   \n",
        "\n",
        "  **task 2.3 (Submit written in pdf)** - Suggest a second version to udpate the inertia weight, how is it different from the first one?"
      ],
      "metadata": {
        "id": "BKgY8zbvwhVc"
      }
    },
    {
      "cell_type": "code",
      "source": [
        "def w_update(w_min ,w_max, max_iter, i):\n",
        "  return w_max - ((w_max - w_min) / max_iter) * i"
      ],
      "metadata": {
        "id": "sf7j453cwg2v"
      },
      "execution_count": 137,
      "outputs": []
    },
    {
      "cell_type": "markdown",
      "source": [
        "**Task 3 - Defining an objective function**\\\n",
        "in this section you'll need to implement an objective function to evaluate the particle position with regard to the vrp instance.\n",
        "\n",
        "Each particle is an array with d elements:\n",
        "*   d - number of locations (depot not included)\n",
        "*   Each element holds a value in range [lb, ub] where lower bound will be set to 0 and upper bound will be set to max number of routes allowed\n",
        "\n",
        "\n",
        "\n",
        "\n",
        "\n",
        "\n"
      ],
      "metadata": {
        "id": "udkLetdjxLIV"
      }
    },
    {
      "cell_type": "markdown",
      "source": [
        "**Task 3.1 - Discretization**\n",
        "\n",
        "Particle Swarm Optimization (PSO) is generally well-suited for continuous optimization problems due to its mathematical formulation involving continuous variables and velocity updates. However, it can also be adapted for discrete optimization tasks through specific modifications and strategies.\n",
        "\n",
        "Discretization techniques can be applied to continuous PSO solutions to convert them into valid discrete solutions. This involves rounding or mapping continuous values to the nearest valid discrete values in the solution space.\n",
        "\n",
        "fill in method  disctetization(x, lb, ub) to return a discrete x\n",
        "Note: Use make sure that values are in range $[lb,ub]$"
      ],
      "metadata": {
        "id": "hToGqe4Y1MJ7"
      }
    },
    {
      "cell_type": "code",
      "source": [
        "def discretization(x, lb, ub):\n",
        "  return np.round(np.clip(x, lb, ub))"
      ],
      "metadata": {
        "id": "Zwrpz6eX3S7H"
      },
      "execution_count": 138,
      "outputs": []
    },
    {
      "cell_type": "markdown",
      "source": [
        "**Task 3.2 - Split into assigned route**\n",
        "\n",
        "After proccessing into discrete domain, we have a representation of a solution for the vrp, Each value in the array coresponds to a route number for that location. For example, given an array [0,1,2,1,2] corresponds to a solution where we assign locations to routes in the following way:\n",
        "\n",
        "location 1 -> route 0,\n",
        "location 2 -> route 1,\n",
        "location 3 -> route 2,\n",
        "location 4 -> route 1\n",
        "\n",
        " Result:\n",
        "\n",
        " route 0 will visit location 1,\n",
        "\n",
        "  route 1 will visit locations 2,4\n",
        "  \n",
        "  and route 2 will visit location 3.\n",
        "\n",
        "Fill in the function *split_into_assigned_route* that given a an array splits the array into route-assignments as described above and return the route-assignments"
      ],
      "metadata": {
        "id": "qqrP_Nkf354A"
      }
    },
    {
      "cell_type": "code",
      "source": [
        "def split_into_assigned_routes(a, ub):\n",
        "    assigned_routes = {}\n",
        "\n",
        "    for i, route in enumerate(a):\n",
        "        route_index = int(route)\n",
        "        if route_index not in assigned_routes:\n",
        "            assigned_routes[route_index] = [i]\n",
        "        else:\n",
        "            assigned_routes[route_index].append(i)\n",
        "\n",
        "    for i in range(ub + 1):\n",
        "        assigned_routes.setdefault(i, [])\n",
        "\n",
        "    return assigned_routes\n"
      ],
      "metadata": {
        "id": "q-GfORAe8R1Y"
      },
      "execution_count": 139,
      "outputs": []
    },
    {
      "cell_type": "markdown",
      "source": [
        "**Task 3.3 - Best route for assignment**\n",
        "\n",
        "After spliting the array into route-assignments,for each assignment we want to find a good order to visit each of the assigned locations starting and ending in the depot- in other words, TSP. A good order will have to factor both distance and time. Choosing the next location based only on distance may lead to longer time (prehaps there's a traffic jam).\n",
        "\n",
        "On the other hand - choosing only based on time may lead to longer distance (prehaps another road will take a little longer but the distance is significantly smaller)\n",
        "\n",
        "Using methods you've learned in lecture, implement a function to find this route for an assignment."
      ],
      "metadata": {
        "id": "UIToGWCkJHz_"
      }
    },
    {
      "cell_type": "code",
      "source": [
        "def find_order_for_assignment(locations, vrp):\n",
        "    if not locations:\n",
        "        return [0]\n",
        "\n",
        "    def distance(location1, location2):\n",
        "        return vrp.dis_mtx[location1][location2]\n",
        "\n",
        "    current_route = locations[:]\n",
        "    n = len(current_route)\n",
        "\n",
        "    def two_opt(route):\n",
        "        best_distance = calculate_route_distance(route)\n",
        "        improved = True\n",
        "        while improved:\n",
        "            improved = False\n",
        "            for i in range(1, n - 2):\n",
        "                for j in range(i + 1, n):\n",
        "                    if j - i == 1:\n",
        "                        continue\n",
        "                    new_route = route[:]\n",
        "                    new_route[i:j + 1] = reversed(new_route[i:j + 1])  # Apply 2-opt exchange\n",
        "                    new_distance = calculate_route_distance(new_route)\n",
        "                    if new_distance < best_distance:\n",
        "                        route[:] = new_route[:]\n",
        "                        best_distance = new_distance\n",
        "                        improved = True\n",
        "                        break\n",
        "                if improved:\n",
        "                    break\n",
        "        return route\n",
        "\n",
        "    def calculate_route_distance(route):\n",
        "        total_distance = 0\n",
        "        for i in range(n - 1):\n",
        "            total_distance += distance(route[i], route[i + 1])\n",
        "        return total_distance\n",
        "\n",
        "    current_route = two_opt(current_route)\n",
        "\n",
        "    current_route.insert(0, 0)\n",
        "    current_route.append(0)\n",
        "\n",
        "    return current_route\n"
      ],
      "metadata": {
        "id": "_DTHRyO4xKab"
      },
      "execution_count": 140,
      "outputs": []
    },
    {
      "cell_type": "markdown",
      "source": [
        "**Task 3.4 - Integrate all the methods above into an objective function**\n",
        "\n",
        "Using all the functions you've implemented, implement an objective function\n",
        "The function need to return a value indicating how good/bad the particle is"
      ],
      "metadata": {
        "id": "N_TjPhEn-UQl"
      }
    },
    {
      "cell_type": "code",
      "source": [
        "def objective_function(vrp, lb, ub, particle):\n",
        "    discrete_solution = discretization(particle, lb, ub)\n",
        "\n",
        "    route_assignments = split_into_assigned_routes(discrete_solution, ub)\n",
        "\n",
        "    total_cost = 0\n",
        "    weight_distance = 0.5\n",
        "    weight_time = 1 - weight_distance\n",
        "\n",
        "    for route, locations in route_assignments.items():\n",
        "        ordered_route = find_order_for_assignment(locations, vrp)\n",
        "\n",
        "        route_distance = vrp.compute_route_distance(ordered_route)\n",
        "\n",
        "        route_time = vrp.compute_route_time(ordered_route)\n",
        "\n",
        "        route_cost = weight_distance * route_distance + weight_time * route_time\n",
        "\n",
        "        total_cost += route_cost\n",
        "\n",
        "    return total_cost\n"
      ],
      "metadata": {
        "id": "goCxYYaaxawd"
      },
      "execution_count": 141,
      "outputs": []
    },
    {
      "cell_type": "markdown",
      "source": [
        "**Task 3.5 - Answer Questions (submit in pdf)**\n",
        "\n",
        "**[question 1]** what is the role of particles, positions, velocities, and fitness evaluation in PSO when solving the VRP. How are these elements utilized in finding the optimal or near-optimal solutions?\n",
        "\n",
        "\n",
        "**[question 2]** Suggest your own way to represent a particle for the vrp problem. Describe the objective function for the new representation.\n",
        "\n",
        "\n",
        "**[question 3]** Explain the concept of local and global best solutions in PSO. How are these solutions utilized during the optimization process of the VRP?\n"
      ],
      "metadata": {
        "id": "mAWpj_FgKjCj"
      }
    },
    {
      "cell_type": "markdown",
      "source": [
        "## Main\n",
        "\n",
        "now that we have all our ducks in order, Let's run the pso algorithm on vrp instance"
      ],
      "metadata": {
        "id": "mYnhIzuXAh8L"
      }
    },
    {
      "cell_type": "markdown",
      "source": [
        "**Task 4.1** - Define parameters for the algorithm and run the pso algorithm on the given data sets.\n",
        "\n",
        "**Task 4.2(Submit in pdf)** - Report how different parameters influence the solution quality and the run-time.\n",
        "\n",
        "**Task 4.3(submit in pdf)** - Submit your best results for each of the given data sets."
      ],
      "metadata": {
        "id": "gd6URs542s0y"
      }
    },
    {
      "cell_type": "code",
      "source": [
        "import functools"
      ],
      "metadata": {
        "id": "mG_qvZ28DsHv"
      },
      "execution_count": 142,
      "outputs": []
    },
    {
      "cell_type": "code",
      "source": [
        "#Initializing vrp instance\n",
        "path = '/content/drive/MyDrive/HW1-Datasets/Ex1-d5'\n",
        "vrp = VRP(path)\n",
        "\n",
        "# Defining parameter for the run\n",
        "SWARM_SIZE = 200\n",
        "MAX_ROUTES = 6\n",
        "C1 = 3\n",
        "C2 = 3\n",
        "W_MIN = 0.4\n",
        "W_MAX = 0.9\n",
        "MAX_ITER = 200\n",
        "\n",
        "# Define functions to pass to pso\n",
        "pso_obj_func = functools.partial(objective_function, vrp, 0, MAX_ROUTES-1)\n",
        "pso_w_update = functools.partial(w_update, W_MIN ,W_MAX, MAX_ITER)\n",
        "\n",
        "\n",
        "# Run PSO\n",
        "sol,f_sol = pso(s = SWARM_SIZE,\n",
        "            d = vrp.dim,\n",
        "            lb = 0,\n",
        "            ub = MAX_ROUTES - 1,\n",
        "            c1 = C1,\n",
        "            c2 = C2,\n",
        "            maxiter = MAX_ITER,\n",
        "            obj_func = pso_obj_func,\n",
        "            wupdate_func = pso_w_update)\n",
        "\n",
        "print(sol)\n",
        "print(f_sol)"
      ],
      "metadata": {
        "id": "59sqldjvA74i",
        "colab": {
          "base_uri": "https://localhost:8080/"
        },
        "outputId": "05f9b304-b87e-42ab-c6af-b927d37c61da"
      },
      "execution_count": 160,
      "outputs": [
        {
          "output_type": "stream",
          "name": "stdout",
          "text": [
            "Running...\n",
            "Finshed run\n",
            "[0.45961588 0.         0.         0.         0.        ]\n",
            "21.23632034355964\n"
          ]
        }
      ]
    },
    {
      "cell_type": "code",
      "source": [
        "# Print and plot solution\n",
        "d_sol = discretization(sol,0,MAX_ROUTES-1)\n",
        "route_assignments = split_into_assigned_routes(d_sol,MAX_ROUTES-1)\n",
        "# sol = [find_order_for_assignment(r, vrp) for r in route_assignments]\n",
        "\n",
        "sol = [find_order_for_assignment(route_assignments[r], vrp) for r in route_assignments]\n",
        "\n",
        "vrp.plot_routes(sol)\n",
        "vrp.print_routes(sol)"
      ],
      "metadata": {
        "id": "g2vCd2dLE0pE",
        "colab": {
          "base_uri": "https://localhost:8080/",
          "height": 790
        },
        "outputId": "cde8289f-c619-47c9-cc0a-412835b0dee2"
      },
      "execution_count": 161,
      "outputs": [
        {
          "output_type": "display_data",
          "data": {
            "text/plain": [
              "<Figure size 800x600 with 1 Axes>"
            ],
            "image/png": "[encoded data removed]"
          },
          "metadata": {}
        },
        {
          "output_type": "stream",
          "name": "stdout",
          "text": [
            "vehicle 1 route: depot ->0 -> 0 -> 1 -> 2 -> 3 -> 4 -> 0 -> depot\n",
            "Distance for vehicle 1 r_distance=6.242640687119285, Time traveled = 36.23\n",
            "vehicle 2 route: depot ->0 -> depot\n",
            "Distance for vehicle 2 r_distance=0.0, Time traveled = 0.0\n",
            "vehicle 3 route: depot ->0 -> depot\n",
            "Distance for vehicle 3 r_distance=0.0, Time traveled = 0.0\n",
            "vehicle 4 route: depot ->0 -> depot\n",
            "Distance for vehicle 4 r_distance=0.0, Time traveled = 0.0\n",
            "vehicle 5 route: depot ->0 -> depot\n",
            "Distance for vehicle 5 r_distance=0.0, Time traveled = 0.0\n",
            "vehicle 6 route: depot ->0 -> depot\n",
            "Distance for vehicle 6 r_distance=0.0, Time traveled = 0.0\n",
            "Total Distance is: 6.242640687119285, Total Time = 36.23\n"
          ]
        }
      ]
    }
  ]
}